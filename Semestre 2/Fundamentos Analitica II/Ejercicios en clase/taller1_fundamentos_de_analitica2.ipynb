{
 "cells": [
  {
   "cell_type": "markdown",
   "metadata": {},
   "source": [
    "<center> \n",
    "\n",
    "# Taller 1: Fundamentos de Analítica II\n",
    "Luisa F. Giraldo - \n",
    "Juan S. Guzman\n",
    "</center>\n",
    "\n",
    "### Enunciado del ejercicio: \n",
    "Empleando la información del número de ocupados en miles de personas (Ocupados) para las 13 principales ciudades, encuentre el mejor pronóstico para los próximos 6 meses. Escriba un breve informe de máximo una página de texto que explique cómo llega a sus proyeccciones y presente las proyecciones. Aclare en el texto cuáles serían las limitaciones de sus pronósticos.\n",
    "\n"
   ]
  },
  {
   "cell_type": "code",
   "execution_count": 1,
   "metadata": {},
   "outputs": [],
   "source": [
    "# Importamos los paquetes a usar\n",
    "\n",
    "import numpy as np\n",
    "import pandas as pd # Operaciones con dataframes\n",
    "from matplotlib import pyplot as plt # gráficos \n",
    "from statsmodels.tsa.seasonal import seasonal_decompose # descomposición de series\n",
    "from statsmodels.tsa.holtwinters import SimpleExpSmoothing  # Holwinters simple\n",
    "from statsmodels.tsa.holtwinters import ExponentialSmoothing # Holwinters doble y tripe\n",
    "from statsmodels.tsa.exponential_smoothing.ets import ETSModel\n",
    "from sklearn.metrics import mean_squared_error"
   ]
  },
  {
   "cell_type": "code",
   "execution_count": null,
   "metadata": {},
   "outputs": [],
   "source": [
    "#Procedemos a la carga de los datos\n",
    "\n",
    "data = pd.read_excel(\"datosEmpleo.xlsx\",index_col='mes',parse_dates=True) #La fecha del registro queda como índica\n",
    "data.head()"
   ]
  }
 ],
 "metadata": {
  "kernelspec": {
   "display_name": "base",
   "language": "python",
   "name": "python3"
  },
  "language_info": {
   "codemirror_mode": {
    "name": "ipython",
    "version": 3
   },
   "file_extension": ".py",
   "mimetype": "text/x-python",
   "name": "python",
   "nbconvert_exporter": "python",
   "pygments_lexer": "ipython3",
   "version": "3.11.7"
  }
 },
 "nbformat": 4,
 "nbformat_minor": 2
}
